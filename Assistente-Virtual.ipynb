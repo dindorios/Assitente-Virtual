{
 "cells": [
  {
   "cell_type": "markdown",
   "id": "36e3f0e4-d714-4fa6-8722-cd968c97aa84",
   "metadata": {},
   "source": [
    "Inicie o Programa: Execute o script Python que contém os módulos que você implementou.\n",
    "\n",
    "Dê um Comando de Voz: Quando o programa estiver em execução, você pode falar um dos comandos que foram programados, como \"Wikipedia\", \"YouTube\" ou \"farmácia\".\n",
    "\n",
    "Ação Automática: O sistema reconhecerá o comando e abrirá o site correspondente no seu navegador padrão."
   ]
  },
  {
   "cell_type": "code",
   "execution_count": 1,
   "id": "8b844e45-1a9e-41ef-9219-b8cdc92c6f83",
   "metadata": {},
   "outputs": [
    {
     "name": "stdout",
     "output_type": "stream",
     "text": [
      "Requirement already satisfied: gtts in c:\\users\\dindo\\appdata\\roaming\\python\\python312\\site-packages (2.5.4)\n",
      "Requirement already satisfied: SpeechRecognition in c:\\users\\dindo\\appdata\\roaming\\python\\python312\\site-packages (3.14.1)\n",
      "Collecting pyaudio\n",
      "  Downloading PyAudio-0.2.14-cp312-cp312-win_amd64.whl.metadata (2.7 kB)\n",
      "Requirement already satisfied: requests<3,>=2.27 in c:\\users\\dindo\\appdata\\roaming\\python\\python312\\site-packages (from gtts) (2.32.3)\n",
      "Requirement already satisfied: click<8.2,>=7.1 in c:\\users\\dindo\\appdata\\roaming\\python\\python312\\site-packages (from gtts) (8.1.8)\n",
      "Requirement already satisfied: typing-extensions in c:\\users\\dindo\\appdata\\roaming\\python\\python312\\site-packages (from SpeechRecognition) (4.12.2)\n",
      "Requirement already satisfied: colorama in c:\\users\\dindo\\appdata\\roaming\\python\\python312\\site-packages (from click<8.2,>=7.1->gtts) (0.4.6)\n",
      "Requirement already satisfied: charset-normalizer<4,>=2 in c:\\users\\dindo\\appdata\\roaming\\python\\python312\\site-packages (from requests<3,>=2.27->gtts) (3.4.1)\n",
      "Requirement already satisfied: idna<4,>=2.5 in c:\\users\\dindo\\appdata\\roaming\\python\\python312\\site-packages (from requests<3,>=2.27->gtts) (3.10)\n",
      "Requirement already satisfied: urllib3<3,>=1.21.1 in c:\\users\\dindo\\appdata\\roaming\\python\\python312\\site-packages (from requests<3,>=2.27->gtts) (2.3.0)\n",
      "Requirement already satisfied: certifi>=2017.4.17 in c:\\users\\dindo\\appdata\\roaming\\python\\python312\\site-packages (from requests<3,>=2.27->gtts) (2025.1.31)\n",
      "Downloading PyAudio-0.2.14-cp312-cp312-win_amd64.whl (164 kB)\n",
      "Installing collected packages: pyaudio\n",
      "Successfully installed pyaudio-0.2.14\n",
      "Note: you may need to restart the kernel to use updated packages.\n"
     ]
    }
   ],
   "source": [
    "# Instalação das Bibliotecas\n",
    "pip install gtts SpeechRecognition pyaudio"
   ]
  },
  {
   "cell_type": "markdown",
   "id": "0426f97a-668c-4e51-a438-9c017fdd6c4b",
   "metadata": {},
   "source": [
    "Configuração do Microfone: Verifique se o microfone está configurado corretamente no seu sistema para que o módulo de fala funcione.\n",
    "\n",
    "Execução do Código: Execute o código em um ambiente que suporte a execução de áudio e tenha acesso à internet para o reconhecimento de fala."
   ]
  },
  {
   "cell_type": "markdown",
   "id": "2cb6197a-a1d6-49ca-a881-a9b98f5fc7db",
   "metadata": {},
   "source": [
    "1. Módulo de Texto para Fala (Text to Speech)\n",
    "\n",
    "A biblioteca gTTS (Google Text-to-Speech) para converter texto em áudio."
   ]
  },
  {
   "cell_type": "code",
   "execution_count": 1,
   "id": "a597d843-a790-4a22-874f-36f376a7323d",
   "metadata": {},
   "outputs": [],
   "source": [
    "from gtts import gTTS\n",
    "import os\n",
    "\n",
    "def text_to_speech(text):\n",
    "    tts = gTTS(text=text, lang='pt')\n",
    "    tts.save(\"output.mp3\")\n",
    "    os.system(\"start output.mp3\")  # Para Windows, use \"start\", para Linux use \"xdg-open\""
   ]
  },
  {
   "cell_type": "markdown",
   "id": "d1a87e22-3eb8-482b-8f5b-b3366dda89c8",
   "metadata": {},
   "source": [
    "2. Módulo de Fala para Texto (Speech to Text)\n",
    "\n",
    "A biblioteca SpeechRecognition para converter fala em texto."
   ]
  },
  {
   "cell_type": "code",
   "execution_count": 2,
   "id": "66f93c38-1e6e-4281-ab7b-6c2cc3297c8d",
   "metadata": {},
   "outputs": [],
   "source": [
    "import speech_recognition as sr\n",
    "\n",
    "def speech_to_text():\n",
    "    recognizer = sr.Recognizer()\n",
    "    with sr.Microphone() as source:\n",
    "        print(\"Aguarde, estou ouvindo...\")\n",
    "        audio = recognizer.listen(source)\n",
    "\n",
    "    try:\n",
    "        text = recognizer.recognize_google(audio, language='pt-BR')\n",
    "        print(\"Você disse: \" + text)\n",
    "        return text\n",
    "    except sr.UnknownValueError:\n",
    "        print(\"Não consegui entender o que você disse.\")\n",
    "        return None\n",
    "    except sr.RequestError:\n",
    "        print(\"Erro ao se conectar ao serviço de reconhecimento de fala.\")\n",
    "        return None"
   ]
  },
  {
   "cell_type": "markdown",
   "id": "6a294bb9-732f-4509-a67b-a52ba37d6705",
   "metadata": {},
   "source": [
    "3. Módulo de Comandos de Voz"
   ]
  },
  {
   "cell_type": "code",
   "execution_count": null,
   "id": "adfb4f2f-6b17-4b2f-b411-2f4fc816f395",
   "metadata": {
    "scrolled": true
   },
   "outputs": [
    {
     "name": "stdout",
     "output_type": "stream",
     "text": [
      "Aguarde, estou ouvindo...\n",
      "Você disse: YouTube\n",
      "Aguarde, estou ouvindo...\n",
      "Não consegui entender o que você disse.\n",
      "Aguarde, estou ouvindo...\n",
      "Você disse: farmácia\n",
      "Aguarde, estou ouvindo...\n",
      "Não consegui entender o que você disse.\n",
      "Aguarde, estou ouvindo...\n",
      "Não consegui entender o que você disse.\n",
      "Aguarde, estou ouvindo...\n",
      "Você disse: Wikipédia\n",
      "Comando não reconhecido.\n",
      "Aguarde, estou ouvindo...\n",
      "Não consegui entender o que você disse.\n",
      "Aguarde, estou ouvindo...\n",
      "Você disse: Wikipedia\n",
      "Aguarde, estou ouvindo...\n",
      "Você disse: minha testadora de\n",
      "Comando não reconhecido.\n",
      "Aguarde, estou ouvindo...\n",
      "Você disse: dos três é dois eu\n",
      "Comando não reconhecido.\n",
      "Aguarde, estou ouvindo...\n",
      "Você disse: Qual é o outro é recomendação de compra então por exemplo se eu carregar uma imagem de um carrinho de bebê ele me traz imagens similares\n",
      "Comando não reconhecido.\n",
      "Aguarde, estou ouvindo...\n",
      "Você disse: de outras máquinas e o outro é o bendito facial né que até agora não tá funcionando para ele tudo é homem\n",
      "Comando não reconhecido.\n",
      "Aguarde, estou ouvindo...\n",
      "Não consegui entender o que você disse.\n",
      "Aguarde, estou ouvindo...\n",
      "Não consegui entender o que você disse.\n",
      "Aguarde, estou ouvindo...\n",
      "Não consegui entender o que você disse.\n",
      "Aguarde, estou ouvindo...\n"
     ]
    }
   ],
   "source": [
    "import webbrowser\n",
    "\n",
    "def execute_command(command):\n",
    "    if \"Wikipedia\" in command:\n",
    "        webbrowser.open(\"https://www.wikipedia.org\")\n",
    "    elif \"YouTube\" in command:\n",
    "        webbrowser.open(\"https://www.youtube.com\")\n",
    "    elif \"farmácia\" in command:\n",
    "        webbrowser.open(\"https://www.google.com/maps/search/farmácia+mais+próxima\")\n",
    "    else:\n",
    "        print(\"Comando não reconhecido.\")\n",
    "\n",
    "def main():\n",
    "    while True:\n",
    "        command = speech_to_text()\n",
    "        if command:\n",
    "            execute_command(command)\n",
    "\n",
    "if __name__ == \"__main__\":\n",
    "    main()"
   ]
  },
  {
   "cell_type": "code",
   "execution_count": null,
   "id": "c5500b9d-29d7-44dc-bb92-d617079079be",
   "metadata": {},
   "outputs": [],
   "source": []
  }
 ],
 "metadata": {
  "kernelspec": {
   "display_name": "Python 3 (ipykernel)",
   "language": "python",
   "name": "python3"
  },
  "language_info": {
   "codemirror_mode": {
    "name": "ipython",
    "version": 3
   },
   "file_extension": ".py",
   "mimetype": "text/x-python",
   "name": "python",
   "nbconvert_exporter": "python",
   "pygments_lexer": "ipython3",
   "version": "3.12.9"
  }
 },
 "nbformat": 4,
 "nbformat_minor": 5
}
